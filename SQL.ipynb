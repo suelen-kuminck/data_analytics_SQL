{
  "nbformat": 4,
  "nbformat_minor": 0,
  "metadata": {
    "colab": {
      "provenance": [],
      "authorship_tag": "ABX9TyMVfFTPRpxY95654wNTiOS/",
      "include_colab_link": true
    },
    "kernelspec": {
      "name": "python3",
      "display_name": "Python 3"
    },
    "language_info": {
      "name": "python"
    }
  },
  "cells": [
    {
      "cell_type": "markdown",
      "metadata": {
        "id": "view-in-github",
        "colab_type": "text"
      },
      "source": [
        "<a href=\"https://colab.research.google.com/github/suelen-kuminck/data_analytics_SQL/blob/master/SQL.ipynb\" target=\"_parent\"><img src=\"https://colab.research.google.com/assets/colab-badge.svg\" alt=\"Open In Colab\"/></a>"
      ]
    },
    {
      "cell_type": "markdown",
      "source": [
        " Data Analytics SQL"
      ],
      "metadata": {
        "id": "5KdXdiQw-tFH"
      }
    },
    {
      "cell_type": "code",
      "execution_count": null,
      "metadata": {
        "colab": {
          "base_uri": "https://localhost:8080/"
        },
        "id": "DqBbLTg08WJw",
        "outputId": "f058d946-fed8-4369-94ab-c4c228aadb92"
      },
      "outputs": [
        {
          "output_type": "stream",
          "name": "stdout",
          "text": [
            "Banco de dados configurado com sucesso!\n"
          ]
        }
      ],
      "source": [
        "import sqlite3\n",
        "\n",
        "# Conectar ao banco de dados (ou criar um novo arquivo)\n",
        "conn = sqlite3.connect('pedidos.db')\n",
        "cursor = conn.cursor()\n",
        "\n",
        "# Criar a tabela pedidos\n",
        "cursor.execute('''\n",
        "CREATE TABLE IF NOT EXISTS pedidos (\n",
        "    id INTEGER PRIMARY KEY AUTOINCREMENT,\n",
        "    data_pedido DATE,\n",
        "    produto TEXT,\n",
        "    quantidade INTEGER,\n",
        "    valor REAL,\n",
        "    categoria TEXT,\n",
        "    status TEXT\n",
        ")\n",
        "''')\n",
        "\n",
        "# Inserir dados\n",
        "dados = [\n",
        "    ('2024-11-01', 'Produto A', 10, 100.0, 'Eletrônicos', 'Concluído'),\n",
        "    ('2024-11-05', 'Produto B', 5, 50.0, 'Livros', 'Concluído'),\n",
        "    ('2024-10-25', 'Produto C', 8, 80.0, 'Eletrônicos', 'Cancelado'),\n",
        "    ('2024-11-10', 'Produto A', 12, 120.0, 'Eletrônicos', 'Concluído'),\n",
        "    ('2024-11-15', 'Produto B', 6, 60.0, 'Livros', 'Concluído')\n",
        "]\n",
        "cursor.executemany('''\n",
        "INSERT INTO pedidos (data_pedido, produto, quantidade, valor, categoria, status)\n",
        "VALUES (?, ?, ?, ?, ?, ?)\n",
        "''', dados)\n",
        "\n",
        "conn.commit()\n",
        "print(\"Banco de dados configurado com sucesso!\")\n"
      ]
    },
    {
      "cell_type": "markdown",
      "source": [
        "1. Total de pedidos realizados no último mês"
      ],
      "metadata": {
        "id": "RHRAMZ-F_OKt"
      }
    },
    {
      "cell_type": "code",
      "source": [
        "cursor.execute('''\n",
        "SELECT COUNT(*) AS total_pedidos\n",
        "FROM pedidos\n",
        "WHERE data_pedido >= DATE('now', '-1 month')\n",
        "''')\n",
        "print(\"Total de pedidos no último mês:\", cursor.fetchone()[0])\n"
      ],
      "metadata": {
        "colab": {
          "base_uri": "https://localhost:8080/"
        },
        "id": "uKVvbHUU9TtO",
        "outputId": "c9389e88-fe7d-4814-9fde-125da65bcb8d"
      },
      "execution_count": null,
      "outputs": [
        {
          "output_type": "stream",
          "name": "stdout",
          "text": [
            "Total de pedidos no último mês: 5\n"
          ]
        }
      ]
    },
    {
      "cell_type": "markdown",
      "source": [
        "2. Receita total agrupada por categoria"
      ],
      "metadata": {
        "id": "thtI9n_I_VO-"
      }
    },
    {
      "cell_type": "code",
      "source": [
        "cursor.execute('''\n",
        "SELECT categoria, SUM(valor) AS receita_total\n",
        "FROM pedidos\n",
        "GROUP BY categoria\n",
        "ORDER BY receita_total DESC\n",
        "''')\n",
        "print(\"Receita total por categoria:\")\n",
        "for row in cursor.fetchall():\n",
        "    print(row)\n"
      ],
      "metadata": {
        "colab": {
          "base_uri": "https://localhost:8080/"
        },
        "id": "Ckny0rG99XRG",
        "outputId": "a4af5fa4-d053-4f02-9bc3-224ca4c5667b"
      },
      "execution_count": null,
      "outputs": [
        {
          "output_type": "stream",
          "name": "stdout",
          "text": [
            "Receita total por categoria:\n",
            "('Eletrônicos', 300.0)\n",
            "('Livros', 110.0)\n"
          ]
        }
      ]
    },
    {
      "cell_type": "markdown",
      "source": [
        "3. Quantidade de pedidos cancelados"
      ],
      "metadata": {
        "id": "dwGSNJt__ait"
      }
    },
    {
      "cell_type": "code",
      "source": [
        "cursor.execute('''\n",
        "SELECT COUNT(*) AS pedidos_cancelados\n",
        "FROM pedidos\n",
        "WHERE status = 'Cancelado'\n",
        "''')\n",
        "print(\"Quantidade de pedidos cancelados:\", cursor.fetchone()[0])\n"
      ],
      "metadata": {
        "colab": {
          "base_uri": "https://localhost:8080/"
        },
        "id": "K7okLbzF9f2m",
        "outputId": "feb32694-bf4d-40d7-8724-872fb317e078"
      },
      "execution_count": null,
      "outputs": [
        {
          "output_type": "stream",
          "name": "stdout",
          "text": [
            "Quantidade de pedidos cancelados: 1\n"
          ]
        }
      ]
    }
  ]
}